{
  "nbformat": 4,
  "nbformat_minor": 0,
  "metadata": {
    "colab": {
      "name": "UpdatedSpleeterScript.ipynb",
      "provenance": [],
      "collapsed_sections": [],
      "include_colab_link": true
    },
    "kernelspec": {
      "display_name": "Python 3",
      "name": "python3"
    }
  },
  "cells": [
    {
      "cell_type": "markdown",
      "metadata": {
        "id": "view-in-github",
        "colab_type": "text"
      },
      "source": [
        "<a href=\"https://colab.research.google.com/github/ethiapath/audio/blob/master/UpdatedSpleeterScript.ipynb\" target=\"_parent\"><img src=\"https://colab.research.google.com/assets/colab-badge.svg\" alt=\"Open In Colab\"/></a>"
      ]
    },
    {
      "cell_type": "markdown",
      "metadata": {
        "id": "K6mcSc0mmp3i"
      },
      "source": [
        "# Install spleeter"
      ]
    },
    {
      "cell_type": "code",
      "metadata": {
        "id": "f8Brdfh6mzEz"
      },
      "source": [
        "!apt install ffmpeg"
      ],
      "execution_count": null,
      "outputs": []
    },
    {
      "cell_type": "code",
      "metadata": {
        "id": "V_6Ram1lmc1F"
      },
      "source": [
        "pip install spleeter"
      ],
      "execution_count": null,
      "outputs": []
    },
    {
      "cell_type": "code",
      "metadata": {
        "id": "W0LktyMypXqE"
      },
      "source": [
        "from IPython.display import Audio"
      ],
      "execution_count": null,
      "outputs": []
    },
    {
      "cell_type": "markdown",
      "metadata": {
        "id": "afbcUSken16L"
      },
      "source": [
        "# Separate from command line"
      ]
    },
    {
      "cell_type": "markdown",
      "metadata": {
        "id": "EKWjdQY8vNf2"
      },
      "source": [
        "Upload Your \"song.mp3!\"!\n",
        "\n",
        "On your computer, rename your song \"song.mp3\". This is important, and I'm making you do this because I am too lazy to check the file's name.\n",
        "\n",
        "(If you don't have a \"song.mp3\" and want to use the original demo example, you can skip this and go to STEP THREE below.)\n",
        "\n",
        "Press the play button to the left of the code section directly below, then select Choose Files and select your \"song.mp3\" on your computer. The file should be uploaded, then moved to the right place.\n",
        "\n",
        "⬇ get your \"song.mp3\" file ready and press here"
      ]
    },
    {
      "cell_type": "code",
      "metadata": {
        "id": "71x92-xLtD1-"
      },
      "source": [
        "! rm -f song.mp3  # remove the song.mp3 if it exists\n",
        "! ls\n",
        "from google.colab import files\n",
        "song = files.upload()\n"
      ],
      "execution_count": null,
      "outputs": []
    },
    {
      "cell_type": "markdown",
      "metadata": {
        "id": "yI1U-S_iMHs9"
      },
      "source": [
        "list the files in our working directory"
      ]
    },
    {
      "cell_type": "code",
      "metadata": {
        "id": "0GtwXQM8B8iA"
      },
      "source": [
        "! ls"
      ],
      "execution_count": null,
      "outputs": []
    },
    {
      "cell_type": "markdown",
      "metadata": {
        "id": "KnbnPNPvML_I"
      },
      "source": [
        "Download the audio file we just uploaded into our browser."
      ]
    },
    {
      "cell_type": "code",
      "metadata": {
        "id": "ibG6uF55p4lH"
      },
      "source": [
        "Audio('song.mp3')"
      ],
      "execution_count": null,
      "outputs": []
    },
    {
      "cell_type": "markdown",
      "metadata": {
        "id": "SrjeZDPOMVfT"
      },
      "source": [
        "Just display the the version of spleeter we're using and the help screen."
      ]
    },
    {
      "cell_type": "code",
      "metadata": {
        "id": "uTCVky4mBj6Y"
      },
      "source": [
        "! spleeter --version\n",
        "! spleeter --help"
      ],
      "execution_count": null,
      "outputs": []
    },
    {
      "cell_type": "markdown",
      "metadata": {
        "id": "EP7lgE0bMiYe"
      },
      "source": [
        "Spleet `songe.mp3` into the -o `output` directory."
      ]
    },
    {
      "cell_type": "code",
      "metadata": {
        "id": "dGL-k5xxoKbu"
      },
      "source": [
        "!spleeter separate -o output/ song.mp3"
      ],
      "execution_count": null,
      "outputs": []
    },
    {
      "cell_type": "markdown",
      "metadata": {
        "id": "6ViDlSYKMxxJ"
      },
      "source": [
        "List the contents of our output directory."
      ]
    },
    {
      "cell_type": "code",
      "metadata": {
        "id": "IDuPWcAMoZP_",
        "colab": {
          "base_uri": "https://localhost:8080/"
        },
        "outputId": "3149a5c7-ae2c-4306-c762-47fd2a3d5856"
      },
      "source": [
        "! ls output/song/\n",
        "! pwd\n"
      ],
      "execution_count": null,
      "outputs": [
        {
          "output_type": "stream",
          "text": [
            "accompaniment.wav  vocals.wav\n"
          ],
          "name": "stdout"
        }
      ]
    },
    {
      "cell_type": "markdown",
      "metadata": {
        "id": "PyKGLWH7M8lI"
      },
      "source": [
        "This command loops through our output directory and converts the wave files into mp3s that we can eaisly download.\n",
        "\n"
      ]
    },
    {
      "cell_type": "code",
      "metadata": {
        "id": "AOZz1NVry0XW"
      },
      "source": [
        "! for f in output/song/*.wav; do ffmpeg -y -i \"$f\" -vn -ac 2 -ar 44100 \"${f%}.mp3\"; done\n",
        "\n",
        "# ffmpeg -i output/song/*.wav -ar 44100 -ac 2 -b:a 192k *.mp"
      ],
      "execution_count": null,
      "outputs": []
    },
    {
      "cell_type": "markdown",
      "metadata": {
        "id": "TVviuHDMNSRE"
      },
      "source": [
        "Download the mp3s into our browser!"
      ]
    },
    {
      "cell_type": "code",
      "metadata": {
        "colab": {
          "base_uri": "https://localhost:8080/"
        },
        "id": "p8J1Tsl8zJ-L",
        "outputId": "f747634f-9cd0-4efd-bded-72bd5a6b252b"
      },
      "source": [
        "! ls output/song"
      ],
      "execution_count": 1,
      "outputs": [
        {
          "output_type": "stream",
          "text": [
            "ls: cannot access 'output/song': No such file or directory\n"
          ],
          "name": "stdout"
        }
      ]
    },
    {
      "cell_type": "code",
      "metadata": {
        "id": "e7CHpyiloxrk"
      },
      "source": [
        "Audio('output/song/vocals.wav.mp3')"
      ],
      "execution_count": null,
      "outputs": []
    },
    {
      "cell_type": "code",
      "metadata": {
        "id": "ibXd-WCTpT0w"
      },
      "source": [
        "Audio('output/song/accompaniment.wav.mp3')"
      ],
      "execution_count": null,
      "outputs": []
    }
  ]
}